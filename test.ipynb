{
 "cells": [
  {
   "cell_type": "markdown",
   "id": "487f9baf",
   "metadata": {},
   "source": [
    "Download ready to use morph-rs dictionary from releases"
   ]
  },
  {
   "cell_type": "code",
   "execution_count": null,
   "id": "770a7ac2",
   "metadata": {},
   "outputs": [],
   "source": [
    "%%bash\n",
    "rm dict.zip\n",
    "rm -rf ./dict/\n",
    "wget --quiet https://github.com/kribrum-os/morph-rs/releases/download/v0.2.0/dict.zip\n",
    "unzip dict.zip -d dict"
   ]
  },
  {
   "cell_type": "code",
   "execution_count": 1,
   "id": "28c45b91",
   "metadata": {},
   "outputs": [],
   "source": [
    "from morphrs_py import MorphAnalyzer"
   ]
  },
  {
   "cell_type": "code",
   "execution_count": 2,
   "id": "53d81ae9",
   "metadata": {},
   "outputs": [
    {
     "data": {
      "text/plain": [
       "MorphAnalyzer()"
      ]
     },
     "execution_count": 2,
     "metadata": {},
     "output_type": "execute_result"
    }
   ],
   "source": [
    "morph_analyzer = MorphAnalyzer.open(\"dict/\")\n",
    "morph_analyzer"
   ]
  },
  {
   "cell_type": "code",
   "execution_count": 3,
   "id": "824a6600",
   "metadata": {},
   "outputs": [
    {
     "data": {
      "text/plain": [
       "[ParsedWord(word=\"стали\", tags=[NOUN, inan, nomn, femn, plur], normal_form=\"сталь\", method=\"Dictionary\"),\n",
       " ParsedWord(word=\"стали\", tags=[NOUN, inan, gent, femn, sing], normal_form=\"сталь\", method=\"Dictionary\"),\n",
       " ParsedWord(word=\"стали\", tags=[NOUN, inan, datv, femn, sing], normal_form=\"сталь\", method=\"Dictionary\"),\n",
       " ParsedWord(word=\"стали\", tags=[NOUN, inan, accs, femn, plur], normal_form=\"сталь\", method=\"Dictionary\"),\n",
       " ParsedWord(word=\"стали\", tags=[NOUN, inan, loct, femn, sing], normal_form=\"сталь\", method=\"Dictionary\"),\n",
       " ParsedWord(word=\"стали\", tags=[VERB, perf, indc, plur, intr, past], normal_form=\"стать\", method=\"Dictionary\")]"
      ]
     },
     "execution_count": 3,
     "metadata": {},
     "output_type": "execute_result"
    }
   ],
   "source": [
    "steel = morph_analyzer.parse_word(\"стали\")\n",
    "steel"
   ]
  },
  {
   "cell_type": "code",
   "execution_count": 4,
   "id": "2c4759ed",
   "metadata": {},
   "outputs": [
    {
     "data": {
      "text/plain": [
       "[InflectWord(word=\"стали\", tags=[NOUN, inan, nomn, femn, plur], method=\"Dictionary\")]"
      ]
     },
     "execution_count": 4,
     "metadata": {},
     "output_type": "execute_result"
    }
   ],
   "source": [
    "morph_analyzer.inflect_forms(\"сталь\", [\"nomn\", \"plur\"])"
   ]
  },
  {
   "cell_type": "code",
   "execution_count": null,
   "id": "159b0a7e",
   "metadata": {},
   "outputs": [],
   "source": []
  }
 ],
 "metadata": {
  "kernelspec": {
   "display_name": ".venv",
   "language": "python",
   "name": "python3"
  },
  "language_info": {
   "codemirror_mode": {
    "name": "ipython",
    "version": 3
   },
   "file_extension": ".py",
   "mimetype": "text/x-python",
   "name": "python",
   "nbconvert_exporter": "python",
   "pygments_lexer": "ipython3",
   "version": "3.10.12"
  }
 },
 "nbformat": 4,
 "nbformat_minor": 5
}
