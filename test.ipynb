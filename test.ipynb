{
 "cells": [
  {
   "cell_type": "markdown",
   "id": "487f9baf",
   "metadata": {},
   "source": [
    "Download ready to use morph-rs dictionary from releases"
   ]
  },
  {
   "cell_type": "code",
   "execution_count": 6,
   "id": "770a7ac2",
   "metadata": {},
   "outputs": [
    {
     "name": "stdout",
     "output_type": "stream",
     "text": [
      "Archive:  dict.zip\n",
      "  inflating: dict/dict.fst           \n",
      "  inflating: dict/dict.json          \n"
     ]
    }
   ],
   "source": [
    "%%bash\n",
    "rm dict.zip\n",
    "rm -rf ./dict/\n",
    "wget --quiet https://github.com/kribrum-os/morph-rs/releases/download/v0.2.0/dict.zip\n",
    "unzip dict.zip -d dict"
   ]
  },
  {
   "cell_type": "code",
   "execution_count": 16,
   "id": "28c45b91",
   "metadata": {},
   "outputs": [],
   "source": [
    "from morphrs_py import MorphAnalyzer"
   ]
  },
  {
   "cell_type": "code",
   "execution_count": 17,
   "id": "53d81ae9",
   "metadata": {},
   "outputs": [
    {
     "data": {
      "text/plain": [
       "MorphAnalyzer()"
      ]
     },
     "execution_count": 17,
     "metadata": {},
     "output_type": "execute_result"
    }
   ],
   "source": [
    "morph_analyzer = MorphAnalyzer.open(\"dict/\")\n",
    "morph_analyzer"
   ]
  },
  {
   "cell_type": "code",
   "execution_count": 18,
   "id": "824a6600",
   "metadata": {},
   "outputs": [
    {
     "data": {
      "text/plain": [
       "[ParsedWord(word=\"стали\", tags=[Noun, Inanimate, Nominativus, Feminine, Plural], normal_form=\"сталь\", method=\"Dictionary\"),\n",
       " ParsedWord(word=\"стали\", tags=[Noun, Inanimate, Genetivus, Feminine, Singular], normal_form=\"сталь\", method=\"Dictionary\"),\n",
       " ParsedWord(word=\"стали\", tags=[Noun, Inanimate, Dativus, Feminine, Singular], normal_form=\"сталь\", method=\"Dictionary\"),\n",
       " ParsedWord(word=\"стали\", tags=[Noun, Inanimate, Accusativus, Feminine, Plural], normal_form=\"сталь\", method=\"Dictionary\"),\n",
       " ParsedWord(word=\"стали\", tags=[Noun, Inanimate, Locativus, Feminine, Singular], normal_form=\"сталь\", method=\"Dictionary\"),\n",
       " ParsedWord(word=\"стали\", tags=[Verb, Perfetto, Indicativo, Plural, Intransitive, Past], normal_form=\"стать\", method=\"Dictionary\")]"
      ]
     },
     "execution_count": 18,
     "metadata": {},
     "output_type": "execute_result"
    }
   ],
   "source": [
    "steel = morph_analyzer.parse_word(\"стали\")\n",
    "steel"
   ]
  },
  {
   "cell_type": "code",
   "execution_count": 19,
   "id": "1431fa75",
   "metadata": {},
   "outputs": [
    {
     "data": {
      "text/plain": [
       "['Noun', 'Inanimate', 'Nominativus', 'Feminine', 'Plural']"
      ]
     },
     "execution_count": 19,
     "metadata": {},
     "output_type": "execute_result"
    }
   ],
   "source": [
    "steel[0].tags"
   ]
  },
  {
   "cell_type": "code",
   "execution_count": 20,
   "id": "eb475400",
   "metadata": {},
   "outputs": [
    {
     "data": {
      "text/plain": [
       "{'сталь', 'стать'}"
      ]
     },
     "execution_count": 20,
     "metadata": {},
     "output_type": "execute_result"
    }
   ],
   "source": [
    "possible_normal_forms = {parsed_word.normal_form for parsed_word in steel}\n",
    "possible_normal_forms"
   ]
  },
  {
   "cell_type": "code",
   "execution_count": null,
   "id": "2c4759ed",
   "metadata": {},
   "outputs": [],
   "source": []
  }
 ],
 "metadata": {
  "kernelspec": {
   "display_name": ".venv",
   "language": "python",
   "name": "python3"
  },
  "language_info": {
   "codemirror_mode": {
    "name": "ipython",
    "version": 3
   },
   "file_extension": ".py",
   "mimetype": "text/x-python",
   "name": "python",
   "nbconvert_exporter": "python",
   "pygments_lexer": "ipython3",
   "version": "3.10.12"
  }
 },
 "nbformat": 4,
 "nbformat_minor": 5
}
